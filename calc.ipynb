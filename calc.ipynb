{
 "cells": [
  {
   "cell_type": "markdown",
   "metadata": {},
   "source": [
    "### PayPay銀行の普通預金革命\n",
    "ドル円がどの程度変動したら損してするかを計算する。"
   ]
  },
  {
   "cell_type": "code",
   "execution_count": 1,
   "metadata": {},
   "outputs": [
    {
     "name": "stdout",
     "output_type": "stream",
     "text": [
      "    rate    dollar_yen  interest         total\n",
      "0    140 -33333.333333    7420.0 -25913.333333\n",
      "1    141 -30000.000000    7473.0 -22527.000000\n",
      "2    142 -26666.666667    7526.0 -19140.666667\n",
      "3    143 -23333.333333    7579.0 -15754.333333\n",
      "4    144 -20000.000000    7632.0 -12368.000000\n",
      "5    145 -16666.666667    7685.0  -8981.666667\n",
      "6    146 -13333.333333    7738.0  -5595.333333\n",
      "7    147 -10000.000000    7791.0  -2209.000000\n",
      "8    148  -6666.666667    7844.0   1177.333333\n",
      "9    149  -3333.333333    7897.0   4563.666667\n",
      "10   150      0.000000    7950.0   7950.000000\n",
      "11   151   3333.333333    8003.0  11336.333333\n",
      "12   152   6666.666667    8056.0  14722.666667\n",
      "13   153  10000.000000    8109.0  18109.000000\n",
      "14   154  13333.333333    8162.0  21495.333333\n",
      "15   155  16666.666667    8215.0  24881.666667\n",
      "16   156  20000.000000    8268.0  28268.000000\n",
      "17   157  23333.333333    8321.0  31654.333333\n",
      "18   158  26666.666667    8374.0  35040.666667\n",
      "19   159  30000.000000    8427.0  38427.000000\n",
      "20   160  33333.333333    8480.0  41813.333333\n",
      "21   161  36666.666667    8533.0  45199.666667\n",
      "22   162  40000.000000    8586.0  48586.000000\n",
      "23   163  43333.333333    8639.0  51972.333333\n",
      "24   164  46666.666667    8692.0  55358.666667\n"
     ]
    }
   ],
   "source": [
    "import pandas as pd\n",
    "import numpy as np\n",
    "\n",
    "def get_dollar(principal, now_rate, objective_rate):\n",
    "    return principal / now_rate * objective_rate\n",
    "\n",
    "days = 365\n",
    "months = 12\n",
    "x = np.arange(140, 165, 1)\n",
    "principal = 500000\n",
    "now_rate = 150\n",
    "\n",
    "obt_df = pd.DataFrame()\n",
    "obt_df['rate'] = x\n",
    "obt_df['dollar_yen'] = principal / now_rate * x - principal\n",
    "obt_df['interest'] = get_dollar(principal, now_rate, x) * 0.0159\n",
    "obt_df['total'] = obt_df['dollar_yen'] + obt_df['interest']\n",
    "print(obt_df)\n"
   ]
  }
 ],
 "metadata": {
  "kernelspec": {
   "display_name": "3_11_3",
   "language": "python",
   "name": "python3"
  },
  "language_info": {
   "codemirror_mode": {
    "name": "ipython",
    "version": 3
   },
   "file_extension": ".py",
   "mimetype": "text/x-python",
   "name": "python",
   "nbconvert_exporter": "python",
   "pygments_lexer": "ipython3",
   "version": "3.11.3"
  }
 },
 "nbformat": 4,
 "nbformat_minor": 2
}
